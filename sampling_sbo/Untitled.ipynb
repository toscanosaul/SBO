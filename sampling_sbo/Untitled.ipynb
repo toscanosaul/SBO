{
 "cells": [
  {
   "cell_type": "code",
   "execution_count": 1,
   "metadata": {
    "collapsed": false
   },
   "outputs": [
    {
     "name": "stdout",
     "output_type": "stream",
     "text": [
      "Not running from main.\n"
     ]
    }
   ],
   "source": [
    "import numpy as np\n",
    "from models import K_Folds\n",
    "from pmf import cross_validation,PMF"
   ]
  },
  {
   "cell_type": "code",
   "execution_count": 2,
   "metadata": {
    "collapsed": false
   },
   "outputs": [],
   "source": [
    "train =[]\n",
    "test = []\n",
    "validate=[]\n",
    "data_all =[]\n",
    "for i in range(1, 6):\n",
    "  data = np.loadtxt(\"data/u%d.base\" % i)\n",
    "  test = np.loadtxt(\"data/u%d.test\" % i)\n",
    "  train.append(data)\n",
    "  validate.append(test)\n",
    "  data_all.append(np.concatenate((data, test), axis=0))\n",
    "num_user = 943\n",
    "num_item = 1682\n",
    "\n",
    "def g(x, w, random_seed=1):\n",
    "  np.random.seed(random_seed)\n",
    "  indexes = np.arange(5)\n",
    "  w=int(w[0])\n",
    "  indexes = np.delete(indexes, w)\n",
    "  train_data = data_all[indexes[0]]\n",
    "  indexes = np.delete(indexes, indexes[0])\n",
    "  for i in indexes:\n",
    "    train_data = np.concatenate((train_data, data_all[i]), axis=0)\n",
    "  val = PMF(num_user, num_item, train_data, data_all[w], x[0], x[1], int(x[3]),\n",
    "            int(x[2]))\n",
    "  return -val * 100.0"
   ]
  },
  {
   "cell_type": "code",
   "execution_count": 3,
   "metadata": {
    "collapsed": true
   },
   "outputs": [],
   "source": [
    "\n",
    "log_mu = np.array([-1.43285632, -1.04592418, -27.03837878, -6.839643])\n",
    "\n",
    "log_multi = np.array([5.09945529e+00,   3.14705582e-01 ,  2.76955350e+00 ,  2.59006831e+00,\n",
    "       2.72541135e+00  ,-1.59429134e+01  ,-3.89236520e+00  , 2.81947210e+00,\n",
    "      -1.41557863e+01 , -2.00693301e+01 ,  3.85411365e+00  , 2.46330959e+00,\n",
    "      -1.79366753e+01 , -1.65765782e+01 , -1.79260710e+01])\n",
    "\n",
    "mu = [1.72004110e+00, 1.01494883e+00 ,  5.52864499e+11 ,  9.34277539e+02]\n",
    "num_dims = 5\n",
    "\n",
    "# XWtrain = np.loadtxt(\"training_data/XWtrain_100_points.txt\")\n",
    "#yTrain = np.loadtxt(\"training_data/yTrain_100.txt\")\n",
    "#yTrain = yTrain.reshape((XWtrain.shape[0], 1))\n",
    "#noise = np.loadtxt()\n",
    "data = {}\n",
    "#  data['X_data'] = XWtrain\n",
    "# data['y'] = yTrain[:,0]\n",
    "#data['noise'] = 1e-50*np.ones(len(yTrain[:,0]))\n",
    "data['matern'] = mu\n",
    "data['log_multiKernel'] = log_multi\n",
    "data['nEvals'] = 2\n",
    "data['dim_x'] = 4\n",
    "data['dim_w'] = 1\n",
    "data['evaluation_f'] = g\n",
    "\n",
    "lower = [0.1, 0.01, 1, 1, 0]\n",
    "upper = [51, 1.01, 21, 201, 5]\n",
    "\n",
    "domain = []\n",
    "for i in range(5):\n",
    "  dict={}\n",
    "  dict['lower'] = lower[i]\n",
    "  dict['upper'] = upper[i]\n",
    "  domain.append(dict)\n",
    "\n",
    "data['domain'] = domain\n",
    "data['type_domain'] = ['real', 'real', 'integer', 'integer', 'integer']\n",
    "model = K_Folds(num_dims, **data)"
   ]
  },
  {
   "cell_type": "code",
   "execution_count": 5,
   "metadata": {
    "collapsed": false
   },
   "outputs": [
    {
     "name": "stderr",
     "output_type": "stream",
     "text": [
      "/Users/saultoscano/anaconda/lib/python2.7/site-packages/matplotlib/collections.py:590: FutureWarning: elementwise comparison failed; returning scalar instead, but in the future will perform elementwise comparison\n",
      "  if self._edgecolors == str('face'):\n"
     ]
    }
   ],
   "source": [
    "model.test_plot()"
   ]
  },
  {
   "cell_type": "code",
   "execution_count": 5,
   "metadata": {
    "collapsed": false
   },
   "outputs": [],
   "source": [
    "self=model"
   ]
  },
  {
   "cell_type": "code",
   "execution_count": 6,
   "metadata": {
    "collapsed": true
   },
   "outputs": [],
   "source": [
    "n=1"
   ]
  },
  {
   "cell_type": "code",
   "execution_count": 7,
   "metadata": {
    "collapsed": true
   },
   "outputs": [],
   "source": [
    "XW = self.objective_function.generate_random_points_in_domain(n)"
   ]
  },
  {
   "cell_type": "code",
   "execution_count": 8,
   "metadata": {
    "collapsed": false
   },
   "outputs": [
    {
     "data": {
      "text/plain": [
       "array([[  0.78793439,   0.54205787,  19.        ,  12.        ,   4.        ]])"
      ]
     },
     "execution_count": 8,
     "metadata": {},
     "output_type": "execute_result"
    }
   ],
   "source": [
    "XW"
   ]
  },
  {
   "cell_type": "code",
   "execution_count": 9,
   "metadata": {
    "collapsed": true
   },
   "outputs": [],
   "source": [
    " n_points = XW.shape[0]"
   ]
  },
  {
   "cell_type": "code",
   "execution_count": 10,
   "metadata": {
    "collapsed": true
   },
   "outputs": [],
   "source": [
    "self= self.objective_function"
   ]
  },
  {
   "cell_type": "code",
   "execution_count": 11,
   "metadata": {
    "collapsed": true
   },
   "outputs": [],
   "source": [
    "j=0"
   ]
  },
  {
   "cell_type": "code",
   "execution_count": 12,
   "metadata": {
    "collapsed": true
   },
   "outputs": [],
   "source": [
    "i=0"
   ]
  },
  {
   "cell_type": "code",
   "execution_count": 14,
   "metadata": {
    "collapsed": true
   },
   "outputs": [],
   "source": [
    "MAX_RANDOM_SEED = 1000000000"
   ]
  },
  {
   "cell_type": "code",
   "execution_count": 15,
   "metadata": {
    "collapsed": false
   },
   "outputs": [],
   "source": [
    "random_seeds = np.random.randint(1, MAX_RANDOM_SEED + 1, self.nEvals * n_points)"
   ]
  },
  {
   "cell_type": "code",
   "execution_count": 17,
   "metadata": {
    "collapsed": false
   },
   "outputs": [
    {
     "data": {
      "text/plain": [
       "2"
      ]
     },
     "execution_count": 17,
     "metadata": {},
     "output_type": "execute_result"
    }
   ],
   "source": [
    "self.nEvals"
   ]
  },
  {
   "cell_type": "code",
   "execution_count": 16,
   "metadata": {
    "collapsed": false
   },
   "outputs": [
    {
     "data": {
      "text/plain": [
       "array([ 90025416, 859580512])"
      ]
     },
     "execution_count": 16,
     "metadata": {},
     "output_type": "execute_result"
    }
   ],
   "source": [
    "random_seeds"
   ]
  },
  {
   "cell_type": "code",
   "execution_count": 18,
   "metadata": {
    "collapsed": true
   },
   "outputs": [],
   "source": [
    "samples = self.function(x=XW[j,0:self.dim_x], w=XW[j,self.dim_x:self.dim_x+self.dim_w],random_seed=random_seeds[j*self.nEvals + i])"
   ]
  },
  {
   "cell_type": "code",
   "execution_count": 22,
   "metadata": {
    "collapsed": false
   },
   "outputs": [],
   "source": [
    "XW = self.generate_random_points_in_domain(2)"
   ]
  },
  {
   "cell_type": "code",
   "execution_count": 23,
   "metadata": {
    "collapsed": false
   },
   "outputs": [
    {
     "data": {
      "text/plain": [
       "array([[  19.60922455,    0.24827961,   17.        ,  150.        ,    3.        ],\n",
       "       [   3.95602395,    0.98455484,    2.        ,   60.        ,    2.        ]])"
      ]
     },
     "execution_count": 23,
     "metadata": {},
     "output_type": "execute_result"
    }
   ],
   "source": [
    "XW"
   ]
  },
  {
   "cell_type": "code",
   "execution_count": 25,
   "metadata": {
    "collapsed": true
   },
   "outputs": [],
   "source": [
    "from joblib import(\n",
    "    Parallel,\n",
    "    delayed,\n",
    ")\n"
   ]
  },
  {
   "cell_type": "code",
   "execution_count": 26,
   "metadata": {
    "collapsed": false
   },
   "outputs": [],
   "source": [
    "n_points = XW.shape[0]\n",
    "\n",
    "random_seeds = np.random.randint(1, MAX_RANDOM_SEED + 1, self.nEvals * n_points)\n",
    "samples = Parallel(n_jobs=self.nCores)(\n",
    "    delayed(self.function)(\n",
    "        x=XW[j,0:self.dim_x],\n",
    "        w=XW[j,self.dim_x:self.dim_x+self.dim_w],\n",
    "        random_seed=random_seeds[j*self.nEvals + i]\n",
    "    ) for j in range(n_points) for i in range(self.nEvals)\n",
    ")"
   ]
  },
  {
   "cell_type": "code",
   "execution_count": 27,
   "metadata": {
    "collapsed": false
   },
   "outputs": [
    {
     "data": {
      "text/plain": [
       "[-60.75448532518184,\n",
       " -60.71485561894503,\n",
       " -125.86963599870747,\n",
       " -125.92574264525513]"
      ]
     },
     "execution_count": 27,
     "metadata": {},
     "output_type": "execute_result"
    }
   ],
   "source": [
    "samples"
   ]
  },
  {
   "cell_type": "code",
   "execution_count": 42,
   "metadata": {
    "collapsed": true
   },
   "outputs": [],
   "source": [
    "def f(*args):\n",
    "    if args:\n",
    "        args=args[0]\n",
    "        print args"
   ]
  },
  {
   "cell_type": "code",
   "execution_count": 43,
   "metadata": {
    "collapsed": true
   },
   "outputs": [],
   "source": [
    "a=[2,3]"
   ]
  },
  {
   "cell_type": "code",
   "execution_count": 45,
   "metadata": {
    "collapsed": false
   },
   "outputs": [
    {
     "name": "stdout",
     "output_type": "stream",
     "text": [
      "[2, 3]\n"
     ]
    }
   ],
   "source": [
    "f(a)"
   ]
  },
  {
   "cell_type": "code",
   "execution_count": 46,
   "metadata": {
    "collapsed": false
   },
   "outputs": [
    {
     "data": {
      "text/plain": [
       "<models.K_Folds at 0x1068dbe50>"
      ]
     },
     "execution_count": 46,
     "metadata": {},
     "output_type": "execute_result"
    }
   ],
   "source": [
    "model"
   ]
  },
  {
   "cell_type": "code",
   "execution_count": 4,
   "metadata": {
    "collapsed": false
   },
   "outputs": [],
   "source": [
    "XWtrain = np.loadtxt(\"data/XWdata.txt\")\n",
    "yTrain = np.loadtxt(\"data/ydata.txt\")"
   ]
  },
  {
   "cell_type": "code",
   "execution_count": 10,
   "metadata": {
    "collapsed": false
   },
   "outputs": [
    {
     "data": {
      "text/plain": [
       "array([[ 7735.45001213],\n",
       "       [ 6949.3496276 ],\n",
       "       [ 1921.91541846],\n",
       "       [ 5894.45694377],\n",
       "       [  236.55623249],\n",
       "       [  234.08458695],\n",
       "       [  221.92910331],\n",
       "       [   58.22204079],\n",
       "       [  577.50492302],\n",
       "       [  651.68446333],\n",
       "       [  588.8182143 ],\n",
       "       [  207.14091147],\n",
       "       [  102.93695593],\n",
       "       [   79.55583105],\n",
       "       [   85.67929044],\n",
       "       [   53.27440872],\n",
       "       [  515.313791  ],\n",
       "       [ 1395.77953819],\n",
       "       [ 2067.57627122],\n",
       "       [  734.62569466]])"
      ]
     },
     "execution_count": 10,
     "metadata": {},
     "output_type": "execute_result"
    }
   ],
   "source": [
    "model._kernel.cross_cov( XWtrain,np.array([[  9.11933786e-01,   1.03580980e-01,   1.40000000e+01,\n",
    "          1.62000000e+02,   4]]))"
   ]
  },
  {
   "cell_type": "code",
   "execution_count": 9,
   "metadata": {
    "collapsed": false
   },
   "outputs": [
    {
     "data": {
      "text/plain": [
       "array([[  9.11933786e-01,   1.03580980e-01,   1.40000000e+01,\n",
       "          1.62000000e+02,   0.00000000e+00],\n",
       "       [  4.70150369e-01,   3.33084588e-01,   6.00000000e+00,\n",
       "          2.90000000e+01,   0.00000000e+00],\n",
       "       [  2.91707554e-01,   1.68156301e+00,   1.70000000e+01,\n",
       "          1.50000000e+02,   0.00000000e+00],\n",
       "       [  4.93377631e-01,   6.54767645e-01,   4.00000000e+00,\n",
       "          3.10000000e+01,   0.00000000e+00],\n",
       "       [  7.44588697e-01,   3.46777075e-01,   3.00000000e+00,\n",
       "          5.90000000e+01,   1.00000000e+00],\n",
       "       [  9.01083926e-01,   4.07960379e-01,   1.70000000e+01,\n",
       "          1.13000000e+02,   1.00000000e+00],\n",
       "       [  7.66524185e-01,   4.84214071e-01,   1.00000000e+01,\n",
       "          4.20000000e+01,   1.00000000e+00],\n",
       "       [  7.23170737e-01,   1.76528205e+00,   1.40000000e+01,\n",
       "          1.60000000e+01,   1.00000000e+00],\n",
       "       [  6.06948241e-01,   7.74019678e-01,   1.90000000e+01,\n",
       "          9.30000000e+01,   2.00000000e+00],\n",
       "       [  4.77993761e-01,   5.81848824e-01,   3.00000000e+00,\n",
       "          1.03000000e+02,   2.00000000e+00],\n",
       "       [  6.18628452e-01,   7.53430330e-01,   1.80000000e+01,\n",
       "          1.04000000e+02,   2.00000000e+00],\n",
       "       [  7.04269134e-02,   1.61649155e+00,   1.00000000e+00,\n",
       "          4.90000000e+01,   2.00000000e+00],\n",
       "       [  3.78022816e-01,   1.07446016e+00,   9.00000000e+00,\n",
       "          1.22000000e+02,   3.00000000e+00],\n",
       "       [  2.26736670e-01,   1.28045866e+00,   1.80000000e+01,\n",
       "          1.07000000e+02,   3.00000000e+00],\n",
       "       [  1.87008812e-01,   1.20091532e+00,   1.50000000e+01,\n",
       "          5.40000000e+01,   3.00000000e+00],\n",
       "       [  5.71542462e-01,   1.65061451e+00,   1.40000000e+01,\n",
       "          1.32000000e+02,   3.00000000e+00],\n",
       "       [  6.95206182e-01,   1.81047336e+00,   1.00000000e+01,\n",
       "          6.00000000e+01,   4.00000000e+00],\n",
       "       [  7.82106683e-01,   9.99746584e-01,   1.90000000e+01,\n",
       "          1.08000000e+02,   4.00000000e+00],\n",
       "       [  2.92488894e-01,   2.60813190e-01,   1.30000000e+01,\n",
       "          2.80000000e+01,   4.00000000e+00],\n",
       "       [  1.98887723e-01,   1.49286206e+00,   3.00000000e+00,\n",
       "          1.65000000e+02,   4.00000000e+00]])"
      ]
     },
     "execution_count": 9,
     "metadata": {},
     "output_type": "execute_result"
    }
   ],
   "source": [
    "XWtrain"
   ]
  },
  {
   "cell_type": "code",
   "execution_count": null,
   "metadata": {
    "collapsed": true
   },
   "outputs": [],
   "source": []
  }
 ],
 "metadata": {
  "kernelspec": {
   "display_name": "Python 2",
   "language": "python",
   "name": "python2"
  },
  "language_info": {
   "codemirror_mode": {
    "name": "ipython",
    "version": 2
   },
   "file_extension": ".py",
   "mimetype": "text/x-python",
   "name": "python",
   "nbconvert_exporter": "python",
   "pygments_lexer": "ipython2",
   "version": "2.7.11"
  }
 },
 "nbformat": 4,
 "nbformat_minor": 0
}
